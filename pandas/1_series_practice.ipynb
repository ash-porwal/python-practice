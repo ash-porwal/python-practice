{
 "cells": [
  {
   "cell_type": "markdown",
   "metadata": {},
   "source": [
    "### Series Creation and Indexing:\n",
    "\n",
    "Create a Pandas Series from a list of numbers. Set custom labels for the index and retrieve values using both integer-based indexing and label-based indexing."
   ]
  },
  {
   "cell_type": "code",
   "execution_count": 1,
   "metadata": {},
   "outputs": [],
   "source": [
    "import pandas as pd"
   ]
  },
  {
   "cell_type": "code",
   "execution_count": 2,
   "metadata": {},
   "outputs": [
    {
     "data": {
      "text/plain": [
       "a    15\n",
       "b    16\n",
       "c    17\n",
       "d    18\n",
       "e    19\n",
       "dtype: int64"
      ]
     },
     "execution_count": 2,
     "metadata": {},
     "output_type": "execute_result"
    }
   ],
   "source": [
    "some_series = pd.Series(\n",
    "    data=range(15, 20),  # random list\n",
    "    index=['a', 'b', 'c', 'd', 'e']  # setting custom labels(index)\n",
    ")\n",
    "\n",
    "some_series"
   ]
  },
  {
   "cell_type": "markdown",
   "metadata": {},
   "source": [
    "Use .iloc[] to get values based on their integer index positions. For example:"
   ]
  },
  {
   "cell_type": "code",
   "execution_count": 3,
   "metadata": {},
   "outputs": [
    {
     "data": {
      "text/plain": [
       "b    16\n",
       "c    17\n",
       "dtype: int64"
      ]
     },
     "execution_count": 3,
     "metadata": {},
     "output_type": "execute_result"
    }
   ],
   "source": [
    "# trying to get values using integer-based indexing and label-based\n",
    "\n",
    "# Get the value at the second position (index 1)\n",
    "some_series.iloc[1]\n",
    "\n",
    "# Get multiple values based on their integer positions\n",
    "some_series.iloc[1:3]  # This will get values at positions 1 and 2\n"
   ]
  },
  {
   "cell_type": "markdown",
   "metadata": {},
   "source": [
    "Use .loc[] to get values based on the labels you've assigned:"
   ]
  },
  {
   "cell_type": "code",
   "execution_count": 4,
   "metadata": {},
   "outputs": [
    {
     "data": {
      "text/plain": [
       "b    16\n",
       "d    18\n",
       "dtype: int64"
      ]
     },
     "execution_count": 4,
     "metadata": {},
     "output_type": "execute_result"
    }
   ],
   "source": [
    "# Get the value with the label 'b'\n",
    "some_series.loc['b']\n",
    "\n",
    "# Get multiple values by passing a list of labels\n",
    "some_series.loc[['b', 'd']]"
   ]
  },
  {
   "cell_type": "markdown",
   "metadata": {},
   "source": [
    "Slicing with Labels and Indexes:\n",
    "* Both .loc[] and .iloc[] can be used for slicing.\n"
   ]
  },
  {
   "cell_type": "code",
   "execution_count": 5,
   "metadata": {},
   "outputs": [
    {
     "data": {
      "text/plain": [
       "b    16\n",
       "c    17\n",
       "dtype: int64"
      ]
     },
     "execution_count": 5,
     "metadata": {},
     "output_type": "execute_result"
    }
   ],
   "source": [
    "# Slice from label 'b' to 'd' (both inclusive)\n",
    "some_series.loc['b':'d']\n",
    "\n",
    "# Slice from index 1 to 3 (index 3 is exclusive)\n",
    "some_series.iloc[1:3]\n"
   ]
  },
  {
   "cell_type": "markdown",
   "metadata": {},
   "source": [
    "**Summary**\n",
    "- .loc[] is used for label-based indexing.\n",
    "- .iloc[] is used for integer-based indexing.\n",
    "- Both .loc[] and .iloc[] can be used for slicing."
   ]
  },
  {
   "cell_type": "markdown",
   "metadata": {},
   "source": [
    "### Series from a Dictionary:\n",
    "\n",
    "Create a Series from a Python dictionary where keys are the indexes. Set custom indexes and modify the values of a specific index."
   ]
  },
  {
   "cell_type": "markdown",
   "metadata": {},
   "source": []
  }
 ],
 "metadata": {
  "kernelspec": {
   "display_name": "Python 3",
   "language": "python",
   "name": "python3"
  },
  "language_info": {
   "codemirror_mode": {
    "name": "ipython",
    "version": 3
   },
   "file_extension": ".py",
   "mimetype": "text/x-python",
   "name": "python",
   "nbconvert_exporter": "python",
   "pygments_lexer": "ipython3",
   "version": "3.12.3"
  }
 },
 "nbformat": 4,
 "nbformat_minor": 2
}
